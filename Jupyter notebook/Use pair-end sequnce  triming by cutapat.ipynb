{
 "cells": [
  {
   "cell_type": "code",
   "execution_count": null,
   "id": "05237dc8",
   "metadata": {},
   "outputs": [],
   "source": [
    "# collect fastq file and separation forward and reversed sequences\n",
    "import os\n",
    "forward_seq=[]#list of  filenames\n",
    "reversed_seq=[]\n",
    "dirFiles=os.listdir('./fastq/')#list of fastq directory files\n",
    "dirFiles.sort()#good initial sort but doesnt sort numerically very well\n",
    "\n",
    "for files in dirFiles:#sort for forward and reversed sequences\n",
    "    if \"1.fastq.gz\" in files:\n",
    "        forward_seq.append(files)\n",
    "for files in dirFiles:#sort for forward and reversed sequences\n",
    "    if \"2.fastq.gz\" in files:\n",
    "        reversed_seq.append(files)\n",
    "seqs=[forward_seq,reversed_seq]\n",
    "print(seqs)"
   ]
  },
  {
   "cell_type": "code",
   "execution_count": null,
   "id": "44e0ac33",
   "metadata": {},
   "outputs": [],
   "source": [
    "dirpath='./fastq/'\n",
    "forward_seq_1=[dirpath+x for x in forward_seq ]\n",
    "reversed_seq_1=[dirpath+x for x in reversed_seq ]"
   ]
  },
  {
   "cell_type": "code",
   "execution_count": null,
   "id": "e4f1da07",
   "metadata": {},
   "outputs": [],
   "source": [
    "def insert_something(element, value, appendix):\n",
    "    index_after = element.find(value) + len(value)\n",
    "    return element[:index_after] + appendix + element[index_after:]"
   ]
  },
  {
   "cell_type": "code",
   "execution_count": null,
   "id": "eed05da5",
   "metadata": {},
   "outputs": [],
   "source": [
    "#bulid trimmomatic output 4 file name \n",
    "pair='_trimmed'\n",
    "forward_seq_out_pair=[insert_something(item,'\"SRRxxxxxxxx_pass_1',pair) for item in forward_seq]\n",
    "reversed_seq_out_pair=[insert_something(item,'\"SRRxxxxxxxx_pass_2',pair) for item in reversed_seq]\n",
    "\n"
   ]
  },
  {
   "cell_type": "code",
   "execution_count": null,
   "id": "b299abaf",
   "metadata": {},
   "outputs": [],
   "source": [
    "#bulid 4 ouput file parmeter on fastq_trimmed\n",
    "\n",
    "dirpath_1='./fastq_trimmed/'\n",
    "forward_seq_out_pair=[dirpath_1+x for x in forward_seq_out_pair ]\n",
    "reversed_seq_out_pair=[dirpath_1+x for x in reversed_seq_out_pair ]\n",
    "\n"
   ]
  },
  {
   "cell_type": "code",
   "execution_count": null,
   "id": "89dda712",
   "metadata": {},
   "outputs": [],
   "source": [
    "for i in zip(forward_seq_1,reversed_seq_1,forward_seq_out_pair,reversed_seq_out_pair):\n",
    "    print(i)\n",
    "#for j in zip(adapters):\n",
    "  #  print(j)\n"
   ]
  },
  {
   "cell_type": "code",
   "execution_count": null,
   "id": "606cb986",
   "metadata": {},
   "outputs": [],
   "source": [
    "#trimmer adpter review by https://support-docs.illumina.com/SHARE/AdapterSeq/illumina-adapter-sequences.pdf\n",
    "adpter1=\"AGATCGGAAGAGCGTCGTGTAGGGAAAGAGTGT\"\n",
    "adpter2=\"AGATCGGAAGAGCGGTTCAGCAGGAATGCCGAGACCG\""
   ]
  },
  {
   "cell_type": "code",
   "execution_count": null,
   "id": "9be5bdf6",
   "metadata": {},
   "outputs": [],
   "source": [
    "reversed_adpter1=\"C\"\n",
    "reversed_adpter2=\"CGGTCTCGGCATTCCTGCTGAACCGCTCTTCCGATCT\"\n"
   ]
  },
  {
   "cell_type": "code",
   "execution_count": null,
   "id": "8fc5273e",
   "metadata": {
    "scrolled": false
   },
   "outputs": [],
   "source": [
    "#use trimmomatic to trimming pair-end sequence\n",
    "import subprocess\n",
    "for i in zip(forward_seq_1,reversed_seq_1,forward_seq_out_pair,reversed_seq_out_pair):\n",
    "    cutadapt=\"cutadapt --pair-adapters -a \"+adpter1 +\" -a \"+adpter2 +' -A ' + reversed_adpter1 +\" -A \"+ reversed_adpter2 + ' -o ' + i[2] + ' -p ' + i[3]+ \" \" + i[0]+ \" \"+i[1] \n",
    "    subprocess.call(cutadapt,shell=True)\n"
   ]
  },
  {
   "cell_type": "code",
   "execution_count": null,
   "id": "93a09027",
   "metadata": {},
   "outputs": [],
   "source": []
  }
 ],
 "metadata": {
  "kernelspec": {
   "display_name": "Python 3 (ipykernel)",
   "language": "python",
   "name": "python3"
  },
  "language_info": {
   "codemirror_mode": {
    "name": "ipython",
    "version": 3
   },
   "file_extension": ".py",
   "mimetype": "text/x-python",
   "name": "python",
   "nbconvert_exporter": "python",
   "pygments_lexer": "ipython3",
   "version": "3.9.13"
  }
 },
 "nbformat": 4,
 "nbformat_minor": 5
}
